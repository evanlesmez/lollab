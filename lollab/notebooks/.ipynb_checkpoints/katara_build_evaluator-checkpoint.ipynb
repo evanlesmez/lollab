{
 "cells": [
  {
   "cell_type": "markdown",
   "id": "c8708168-b8cf-4c74-987b-d823566b1bd1",
   "metadata": {},
   "source": [
    "# Katarina Build Evaluator"
   ]
  },
  {
   "cell_type": "code",
   "execution_count": null,
   "id": "0b2f98fd-777f-4f72-be04-000c979328e4",
   "metadata": {},
   "outputs": [],
   "source": []
  }
 ],
 "metadata": {
  "kernelspec": {
   "display_name": "Python 3 (ipykernel)",
   "language": "python",
   "name": "python3"
  },
  "language_info": {
   "codemirror_mode": {
    "name": "ipython",
    "version": 3
   },
   "file_extension": ".py",
   "mimetype": "text/x-python",
   "name": "python",
   "nbconvert_exporter": "python",
   "pygments_lexer": "ipython3",
   "version": "3.10.9"
  }
 },
 "nbformat": 4,
 "nbformat_minor": 5
}
