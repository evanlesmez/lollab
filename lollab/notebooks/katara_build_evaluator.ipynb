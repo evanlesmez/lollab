{
 "cells": [
  {
   "cell_type": "markdown",
   "id": "c8708168-b8cf-4c74-987b-d823566b1bd1",
   "metadata": {},
   "source": [
    "# Katarina Build Evaluator"
   ]
  },
  {
   "cell_type": "code",
   "execution_count": 12,
   "id": "0b2f98fd-777f-4f72-be04-000c979328e4",
   "metadata": {
    "tags": []
   },
   "outputs": [],
   "source": [
    "import pandas as pd\n",
    "from pathlib import Path\n",
    "import os"
   ]
  },
  {
   "cell_type": "code",
   "execution_count": 18,
   "id": "4cfaa822-065e-4845-91e0-1f4283e9cb36",
   "metadata": {
    "tags": []
   },
   "outputs": [],
   "source": [
    "root_p = Path(os.getcwd()).parents[1]\n",
    "data_p = root_p / \"data\""
   ]
  },
  {
   "cell_type": "code",
   "execution_count": 35,
   "id": "680c9618-321e-457c-bc04-ad0411a599cb",
   "metadata": {
    "tags": []
   },
   "outputs": [
    {
     "data": {
      "text/html": [
       "<div>\n",
       "<style scoped>\n",
       "    .dataframe tbody tr th:only-of-type {\n",
       "        vertical-align: middle;\n",
       "    }\n",
       "\n",
       "    .dataframe tbody tr th {\n",
       "        vertical-align: top;\n",
       "    }\n",
       "\n",
       "    .dataframe thead th {\n",
       "        text-align: right;\n",
       "    }\n",
       "</style>\n",
       "<table border=\"1\" class=\"dataframe\">\n",
       "  <thead>\n",
       "    <tr style=\"text-align: right;\">\n",
       "      <th></th>\n",
       "      <th>buy</th>\n",
       "      <th>stats</th>\n",
       "    </tr>\n",
       "  </thead>\n",
       "  <tbody>\n",
       "    <tr>\n",
       "      <th>Guinsoo's Rageblade</th>\n",
       "      <td>2600</td>\n",
       "      <td>{'crit': 20, 'as': 45}</td>\n",
       "    </tr>\n",
       "    <tr>\n",
       "      <th>Gustwalker Hatchling</th>\n",
       "      <td>450</td>\n",
       "      <td>{'spec': '+20% damage against non-epic [[monst...</td>\n",
       "    </tr>\n",
       "    <tr>\n",
       "      <th>Ironspike Whip</th>\n",
       "      <td>1100</td>\n",
       "      <td>{'ad': 30}</td>\n",
       "    </tr>\n",
       "    <tr>\n",
       "      <th>Hextech Alternator</th>\n",
       "      <td>1050</td>\n",
       "      <td>{'ap': 25, 'hp': 150}</td>\n",
       "    </tr>\n",
       "    <tr>\n",
       "      <th>Edge of Night</th>\n",
       "      <td>2900</td>\n",
       "      <td>{'hp': 325, 'lethality': 10, 'ad': 50}</td>\n",
       "    </tr>\n",
       "  </tbody>\n",
       "</table>\n",
       "</div>"
      ],
      "text/plain": [
       "                       buy                                              stats\n",
       "Guinsoo's Rageblade   2600                             {'crit': 20, 'as': 45}\n",
       "Gustwalker Hatchling   450  {'spec': '+20% damage against non-epic [[monst...\n",
       "Ironspike Whip        1100                                         {'ad': 30}\n",
       "Hextech Alternator    1050                              {'ap': 25, 'hp': 150}\n",
       "Edge of Night         2900             {'hp': 325, 'lethality': 10, 'ad': 50}"
      ]
     },
     "execution_count": 35,
     "metadata": {},
     "output_type": "execute_result"
    }
   ],
   "source": [
    "lol_item_df = pd.read_json(data_p/\"lol_wiki_items_2023_03_10.json\", \n",
    "    orient=\"index\",\n",
    ")[[\"buy\",\"stats\"]]\n",
    "lol_item_df.head(5)"
   ]
  },
  {
   "cell_type": "code",
   "execution_count": 41,
   "id": "878dc281-d0c1-41f0-9940-cd7b6c5eeaad",
   "metadata": {
    "tags": []
   },
   "outputs": [
    {
     "ename": "ValueError",
     "evalue": "No axis named Guinsoo's for object type DataFrame",
     "output_type": "error",
     "traceback": [
      "\u001b[0;31m---------------------------------------------------------------------------\u001b[0m",
      "\u001b[0;31mKeyError\u001b[0m                                  Traceback (most recent call last)",
      "File \u001b[0;32m~/.cache/pypoetry/virtualenvs/lollab-t4arIMTM-py3.10/lib/python3.10/site-packages/pandas/core/generic.py:554\u001b[0m, in \u001b[0;36mNDFrame._get_axis_number\u001b[0;34m(cls, axis)\u001b[0m\n\u001b[1;32m    553\u001b[0m \u001b[38;5;28;01mtry\u001b[39;00m:\n\u001b[0;32m--> 554\u001b[0m     \u001b[38;5;28;01mreturn\u001b[39;00m \u001b[38;5;28;43mcls\u001b[39;49m\u001b[38;5;241;43m.\u001b[39;49m\u001b[43m_AXIS_TO_AXIS_NUMBER\u001b[49m\u001b[43m[\u001b[49m\u001b[43maxis\u001b[49m\u001b[43m]\u001b[49m\n\u001b[1;32m    555\u001b[0m \u001b[38;5;28;01mexcept\u001b[39;00m \u001b[38;5;167;01mKeyError\u001b[39;00m:\n",
      "\u001b[0;31mKeyError\u001b[0m: \"Guinsoo's\"",
      "\nDuring handling of the above exception, another exception occurred:\n",
      "\u001b[0;31mValueError\u001b[0m                                Traceback (most recent call last)",
      "Cell \u001b[0;32mIn[41], line 1\u001b[0m\n\u001b[0;32m----> 1\u001b[0m \u001b[43mlol_item_df\u001b[49m\u001b[38;5;241;43m.\u001b[39;49m\u001b[43mloc\u001b[49m\u001b[43m(\u001b[49m\u001b[38;5;124;43m\"\u001b[39;49m\u001b[38;5;124;43mGuinsoo\u001b[39;49m\u001b[38;5;124;43m'\u001b[39;49m\u001b[38;5;124;43ms\u001b[39;49m\u001b[38;5;124;43m\"\u001b[39;49m\u001b[43m)\u001b[49m\n",
      "File \u001b[0;32m~/.cache/pypoetry/virtualenvs/lollab-t4arIMTM-py3.10/lib/python3.10/site-packages/pandas/core/indexing.py:668\u001b[0m, in \u001b[0;36m_LocationIndexer.__call__\u001b[0;34m(self, axis)\u001b[0m\n\u001b[1;32m    665\u001b[0m new_self \u001b[38;5;241m=\u001b[39m \u001b[38;5;28mtype\u001b[39m(\u001b[38;5;28mself\u001b[39m)(\u001b[38;5;28mself\u001b[39m\u001b[38;5;241m.\u001b[39mname, \u001b[38;5;28mself\u001b[39m\u001b[38;5;241m.\u001b[39mobj)\n\u001b[1;32m    667\u001b[0m \u001b[38;5;28;01mif\u001b[39;00m axis \u001b[38;5;129;01mis\u001b[39;00m \u001b[38;5;129;01mnot\u001b[39;00m \u001b[38;5;28;01mNone\u001b[39;00m:\n\u001b[0;32m--> 668\u001b[0m     axis \u001b[38;5;241m=\u001b[39m \u001b[38;5;28;43mself\u001b[39;49m\u001b[38;5;241;43m.\u001b[39;49m\u001b[43mobj\u001b[49m\u001b[38;5;241;43m.\u001b[39;49m\u001b[43m_get_axis_number\u001b[49m\u001b[43m(\u001b[49m\u001b[43maxis\u001b[49m\u001b[43m)\u001b[49m\n\u001b[1;32m    669\u001b[0m new_self\u001b[38;5;241m.\u001b[39maxis \u001b[38;5;241m=\u001b[39m axis\n\u001b[1;32m    670\u001b[0m \u001b[38;5;28;01mreturn\u001b[39;00m new_self\n",
      "File \u001b[0;32m~/.cache/pypoetry/virtualenvs/lollab-t4arIMTM-py3.10/lib/python3.10/site-packages/pandas/core/generic.py:556\u001b[0m, in \u001b[0;36mNDFrame._get_axis_number\u001b[0;34m(cls, axis)\u001b[0m\n\u001b[1;32m    554\u001b[0m     \u001b[38;5;28;01mreturn\u001b[39;00m \u001b[38;5;28mcls\u001b[39m\u001b[38;5;241m.\u001b[39m_AXIS_TO_AXIS_NUMBER[axis]\n\u001b[1;32m    555\u001b[0m \u001b[38;5;28;01mexcept\u001b[39;00m \u001b[38;5;167;01mKeyError\u001b[39;00m:\n\u001b[0;32m--> 556\u001b[0m     \u001b[38;5;28;01mraise\u001b[39;00m \u001b[38;5;167;01mValueError\u001b[39;00m(\u001b[38;5;124mf\u001b[39m\u001b[38;5;124m\"\u001b[39m\u001b[38;5;124mNo axis named \u001b[39m\u001b[38;5;132;01m{\u001b[39;00maxis\u001b[38;5;132;01m}\u001b[39;00m\u001b[38;5;124m for object type \u001b[39m\u001b[38;5;132;01m{\u001b[39;00m\u001b[38;5;28mcls\u001b[39m\u001b[38;5;241m.\u001b[39m\u001b[38;5;18m__name__\u001b[39m\u001b[38;5;132;01m}\u001b[39;00m\u001b[38;5;124m\"\u001b[39m)\n",
      "\u001b[0;31mValueError\u001b[0m: No axis named Guinsoo's for object type DataFrame"
     ]
    }
   ],
   "source": [
    "lol_item_df.loc(\"Guinsoo's\")"
   ]
  },
  {
   "cell_type": "code",
   "execution_count": null,
   "id": "123b8a7e-2e41-4d79-86fa-f2621730e31a",
   "metadata": {},
   "outputs": [],
   "source": []
  }
 ],
 "metadata": {
  "kernelspec": {
   "display_name": "Python 3 (ipykernel)",
   "language": "python",
   "name": "python3"
  },
  "language_info": {
   "codemirror_mode": {
    "name": "ipython",
    "version": 3
   },
   "file_extension": ".py",
   "mimetype": "text/x-python",
   "name": "python",
   "nbconvert_exporter": "python",
   "pygments_lexer": "ipython3",
   "version": "3.10.9"
  }
 },
 "nbformat": 4,
 "nbformat_minor": 5
}
