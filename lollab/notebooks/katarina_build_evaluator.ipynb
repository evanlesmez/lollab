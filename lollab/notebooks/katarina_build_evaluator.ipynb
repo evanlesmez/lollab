{
 "cells": [
  {
   "cell_type": "markdown",
   "id": "c8708168-b8cf-4c74-987b-d823566b1bd1",
   "metadata": {},
   "source": [
    "# Katarina Build Evaluator"
   ]
  },
  {
   "cell_type": "code",
   "execution_count": 108,
   "id": "0b2f98fd-777f-4f72-be04-000c979328e4",
   "metadata": {
    "tags": []
   },
   "outputs": [],
   "source": [
    "import pandas as pd\n",
    "from pathlib import Path\n",
    "import os\n",
    "import json\n",
    "from pprint import pformat, pprint"
   ]
  },
  {
   "cell_type": "code",
   "execution_count": null,
   "id": "4cfaa822-065e-4845-91e0-1f4283e9cb36",
   "metadata": {},
   "outputs": [],
   "source": [
    "root_p = Path(os.getcwd()).parents[1]\n",
    "data_p = root_p / \"data\""
   ]
  },
  {
   "cell_type": "markdown",
   "id": "dbcbae66-6c4f-4fdc-9faa-15f6716430bd",
   "metadata": {
    "tags": []
   },
   "source": [
    "## Create Dataframes"
   ]
  },
  {
   "cell_type": "markdown",
   "id": "446fb161-6268-469d-ab5f-2774aa7ad1aa",
   "metadata": {
    "tags": []
   },
   "source": [
    "### Item dataframe"
   ]
  },
  {
   "cell_type": "code",
   "execution_count": 96,
   "id": "680c9618-321e-457c-bc04-ad0411a599cb",
   "metadata": {},
   "outputs": [
    {
     "data": {
      "text/html": [
       "<div>\n",
       "<style scoped>\n",
       "    .dataframe tbody tr th:only-of-type {\n",
       "        vertical-align: middle;\n",
       "    }\n",
       "\n",
       "    .dataframe tbody tr th {\n",
       "        vertical-align: top;\n",
       "    }\n",
       "\n",
       "    .dataframe thead th {\n",
       "        text-align: right;\n",
       "    }\n",
       "</style>\n",
       "<table border=\"1\" class=\"dataframe\">\n",
       "  <thead>\n",
       "    <tr style=\"text-align: right;\">\n",
       "      <th></th>\n",
       "      <th>buy</th>\n",
       "      <th>stats</th>\n",
       "    </tr>\n",
       "  </thead>\n",
       "  <tbody>\n",
       "    <tr>\n",
       "      <th>Guinsoo's Rageblade</th>\n",
       "      <td>2600</td>\n",
       "      <td>{'crit': 20, 'as': 45}</td>\n",
       "    </tr>\n",
       "    <tr>\n",
       "      <th>Gustwalker Hatchling</th>\n",
       "      <td>450</td>\n",
       "      <td>{'spec': '+20% damage against non-epic [[monst...</td>\n",
       "    </tr>\n",
       "    <tr>\n",
       "      <th>Ironspike Whip</th>\n",
       "      <td>1100</td>\n",
       "      <td>{'ad': 30}</td>\n",
       "    </tr>\n",
       "    <tr>\n",
       "      <th>Hextech Alternator</th>\n",
       "      <td>1050</td>\n",
       "      <td>{'ap': 25, 'hp': 150}</td>\n",
       "    </tr>\n",
       "    <tr>\n",
       "      <th>Edge of Night</th>\n",
       "      <td>2900</td>\n",
       "      <td>{'hp': 325, 'lethality': 10, 'ad': 50}</td>\n",
       "    </tr>\n",
       "  </tbody>\n",
       "</table>\n",
       "</div>"
      ],
      "text/plain": [
       "                       buy                                              stats\n",
       "Guinsoo's Rageblade   2600                             {'crit': 20, 'as': 45}\n",
       "Gustwalker Hatchling   450  {'spec': '+20% damage against non-epic [[monst...\n",
       "Ironspike Whip        1100                                         {'ad': 30}\n",
       "Hextech Alternator    1050                              {'ap': 25, 'hp': 150}\n",
       "Edge of Night         2900             {'hp': 325, 'lethality': 10, 'ad': 50}"
      ]
     },
     "execution_count": 96,
     "metadata": {},
     "output_type": "execute_result"
    }
   ],
   "source": [
    "lol_item_df = pd.read_json(data_p/\"lol_wiki_items_2023_03_10.json\", \n",
    "    orient=\"index\",\n",
    ")[[\"buy\",\"stats\"]]\n",
    "lol_item_df.head(5)"
   ]
  },
  {
   "cell_type": "markdown",
   "id": "7d7228ce-e54f-4571-841e-85b8a5dbd0d0",
   "metadata": {},
   "source": [
    "Here is a test for getting the stats for an item row"
   ]
  },
  {
   "cell_type": "code",
   "execution_count": 112,
   "id": "878dc281-d0c1-41f0-9940-cd7b6c5eeaad",
   "metadata": {},
   "outputs": [
    {
     "name": "stdout",
     "output_type": "stream",
     "text": [
      "Stats are in a dictionary form:\n",
      "\n",
      "{'as': 45, 'crit': 20}\n"
     ]
    }
   ],
   "source": [
    "guin_rblade = lol_item_df.loc[[\"Guinsoo's Rageblade\"]]\n",
    "guin_rblade_stats_dict = guin_rblade.get(\"stats\")[0]\n",
    "print(f\"Stats are in a dictionary form:\\n\\n{pformat(guin_rblade_stats_dict)}\")"
   ]
  },
  {
   "cell_type": "markdown",
   "id": "d3d67269-bbb6-4631-b8a5-332ef3fe346e",
   "metadata": {},
   "source": [
    "### Champion dataframe"
   ]
  },
  {
   "cell_type": "code",
   "execution_count": 115,
   "id": "123b8a7e-2e41-4d79-86fa-f2621730e31a",
   "metadata": {
    "tags": []
   },
   "outputs": [
    {
     "data": {
      "text/html": [
       "<div>\n",
       "<style scoped>\n",
       "    .dataframe tbody tr th:only-of-type {\n",
       "        vertical-align: middle;\n",
       "    }\n",
       "\n",
       "    .dataframe tbody tr th {\n",
       "        vertical-align: top;\n",
       "    }\n",
       "\n",
       "    .dataframe thead th {\n",
       "        text-align: right;\n",
       "    }\n",
       "</style>\n",
       "<table border=\"1\" class=\"dataframe\">\n",
       "  <thead>\n",
       "    <tr style=\"text-align: right;\">\n",
       "      <th></th>\n",
       "      <th>stats</th>\n",
       "    </tr>\n",
       "  </thead>\n",
       "  <tbody>\n",
       "    <tr>\n",
       "      <th>Aatrox</th>\n",
       "      <td>{'hp': 650, 'hpperlevel': 114, 'mp': 0, 'mpper...</td>\n",
       "    </tr>\n",
       "    <tr>\n",
       "      <th>Ahri</th>\n",
       "      <td>{'hp': 590, 'hpperlevel': 96, 'mp': 418, 'mppe...</td>\n",
       "    </tr>\n",
       "    <tr>\n",
       "      <th>Akali</th>\n",
       "      <td>{'hp': 570, 'hpperlevel': 119, 'mp': 200, 'mpp...</td>\n",
       "    </tr>\n",
       "    <tr>\n",
       "      <th>Akshan</th>\n",
       "      <td>{'hp': 630, 'hpperlevel': 104, 'mp': 350, 'mpp...</td>\n",
       "    </tr>\n",
       "    <tr>\n",
       "      <th>Alistar</th>\n",
       "      <td>{'hp': 670, 'hpperlevel': 120, 'mp': 350, 'mpp...</td>\n",
       "    </tr>\n",
       "  </tbody>\n",
       "</table>\n",
       "</div>"
      ],
      "text/plain": [
       "                                                     stats\n",
       "Aatrox   {'hp': 650, 'hpperlevel': 114, 'mp': 0, 'mpper...\n",
       "Ahri     {'hp': 590, 'hpperlevel': 96, 'mp': 418, 'mppe...\n",
       "Akali    {'hp': 570, 'hpperlevel': 119, 'mp': 200, 'mpp...\n",
       "Akshan   {'hp': 630, 'hpperlevel': 104, 'mp': 350, 'mpp...\n",
       "Alistar  {'hp': 670, 'hpperlevel': 120, 'mp': 350, 'mpp..."
      ]
     },
     "execution_count": 115,
     "metadata": {},
     "output_type": "execute_result"
    }
   ],
   "source": [
    "with open(data_p / \"ddragon_champions_13_5_1.json\", 'r') as f:\n",
    "    lol_champ_json = json.load(f)\n",
    "    \n",
    "lol_champ_df = pd.DataFrame.from_dict(lol_champ_json[\"data\"], orient=\"index\")[[\"stats\"]]\n",
    "\n",
    "# lol_champ_df = pd.read_json(data_p / \"ddragon_champions_13_5_1.json\", orient=\"index\")\n",
    "lol_champ_df.head(5)"
   ]
  },
  {
   "cell_type": "markdown",
   "id": "245ba293-67d7-439d-8826-6de3621b39cc",
   "metadata": {},
   "source": [
    "Here is a test for getting the stats of a champion row"
   ]
  },
  {
   "cell_type": "code",
   "execution_count": 111,
   "id": "2b6e07cd-ec02-4230-8b6b-0d1582dff862",
   "metadata": {
    "tags": []
   },
   "outputs": [
    {
     "name": "stdout",
     "output_type": "stream",
     "text": [
      "Katarina's stats: \n",
      "\n",
      "{'armor': 28,\n",
      " 'armorperlevel': 4.7,\n",
      " 'attackdamage': 58,\n",
      " 'attackdamageperlevel': 3.2,\n",
      " 'attackrange': 125,\n",
      " 'attackspeed': 0.658,\n",
      " 'attackspeedperlevel': 2.74,\n",
      " 'crit': 0,\n",
      " 'critperlevel': 0,\n",
      " 'hp': 672,\n",
      " 'hpperlevel': 108,\n",
      " 'hpregen': 7.5,\n",
      " 'hpregenperlevel': 0.7,\n",
      " 'movespeed': 335,\n",
      " 'mp': 0,\n",
      " 'mpperlevel': 0,\n",
      " 'mpregen': 0,\n",
      " 'mpregenperlevel': 0,\n",
      " 'spellblock': 32,\n",
      " 'spellblockperlevel': 2.05}\n"
     ]
    }
   ],
   "source": [
    "katarina = lol_champ_df.loc[\"Katarina\"]\n",
    "kat_stats = katarina.get(\"stats\")\n",
    "print(f\"Katarina's stats: \\n\\n{pformat(kat_stats)}\")"
   ]
  },
  {
   "cell_type": "markdown",
   "id": "149de952-f0a5-4dd1-811d-c29fa026f4e0",
   "metadata": {
    "tags": []
   },
   "source": [
    "## Supplement champion damaging abilities of interest\n",
    "An example source for Katarina : https://leagueoflegends.fandom.com/wiki/Katarina/LoL#Abilities\n",
    "\n"
   ]
  },
  {
   "cell_type": "code",
   "execution_count": null,
   "id": "04f48f74-ad7d-41e0-a5e4-b2274f343d76",
   "metadata": {},
   "outputs": [],
   "source": []
  }
 ],
 "metadata": {
  "kernelspec": {
   "display_name": "Python 3 (ipykernel)",
   "language": "python",
   "name": "python3"
  },
  "language_info": {
   "codemirror_mode": {
    "name": "ipython",
    "version": 3
   },
   "file_extension": ".py",
   "mimetype": "text/x-python",
   "name": "python",
   "nbconvert_exporter": "python",
   "pygments_lexer": "ipython3",
   "version": "3.10.9"
  }
 },
 "nbformat": 4,
 "nbformat_minor": 5
}
